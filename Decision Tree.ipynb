{
 "cells": [
  {
   "cell_type": "code",
   "execution_count": 1,
   "metadata": {
    "scrolled": true
   },
   "outputs": [],
   "source": [
    "import pandas as pd\n",
    "import numpy as np\n",
    "import seaborn as sns\n",
    "import matplotlib.pyplot as plt\n",
    "from matplotlib.pyplot import figure\n",
    "\n",
    "from sklearn.model_selection import train_test_split\n",
    "from sklearn.tree import DecisionTreeClassifier\n",
    "import sklearn.metrics as sm\n",
    "from sklearn import tree\n",
    "from sklearn import preprocessing\n",
    "\n",
    "df = pd.read_csv('wdbc.csv')"
   ]
  },
  {
   "cell_type": "code",
   "execution_count": 2,
   "metadata": {
    "scrolled": true
   },
   "outputs": [
    {
     "data": {
      "text/plain": [
       "842302        int64\n",
       "M            object\n",
       "17.99       float64\n",
       "10.38       float64\n",
       "122.8       float64\n",
       "1001        float64\n",
       "0.1184      float64\n",
       "0.2776      float64\n",
       "0.3001      float64\n",
       "0.1471      float64\n",
       "0.2419      float64\n",
       "0.07871     float64\n",
       "1.095       float64\n",
       "0.9053      float64\n",
       "8.589       float64\n",
       "153.4       float64\n",
       "0.006399    float64\n",
       "0.04904     float64\n",
       "0.05373     float64\n",
       "0.01587     float64\n",
       "0.03003     float64\n",
       "0.006193    float64\n",
       "25.38       float64\n",
       "17.33       float64\n",
       "184.6       float64\n",
       "2019        float64\n",
       "0.1622      float64\n",
       "0.6656      float64\n",
       "0.7119      float64\n",
       "0.2654      float64\n",
       "0.4601      float64\n",
       "0.1189      float64\n",
       "dtype: object"
      ]
     },
     "execution_count": 2,
     "metadata": {},
     "output_type": "execute_result"
    }
   ],
   "source": [
    "# check data type\n",
    "df.dtypes"
   ]
  },
  {
   "cell_type": "code",
   "execution_count": 3,
   "metadata": {
    "scrolled": true
   },
   "outputs": [
    {
     "data": {
      "text/plain": [
       "842302      False\n",
       "M           False\n",
       "17.99       False\n",
       "10.38       False\n",
       "122.8       False\n",
       "1001        False\n",
       "0.1184      False\n",
       "0.2776      False\n",
       "0.3001      False\n",
       "0.1471      False\n",
       "0.2419      False\n",
       "0.07871     False\n",
       "1.095       False\n",
       "0.9053      False\n",
       "8.589       False\n",
       "153.4       False\n",
       "0.006399    False\n",
       "0.04904     False\n",
       "0.05373     False\n",
       "0.01587     False\n",
       "0.03003     False\n",
       "0.006193    False\n",
       "25.38       False\n",
       "17.33       False\n",
       "184.6       False\n",
       "2019        False\n",
       "0.1622      False\n",
       "0.6656      False\n",
       "0.7119      False\n",
       "0.2654      False\n",
       "0.4601      False\n",
       "0.1189      False\n",
       "dtype: bool"
      ]
     },
     "execution_count": 3,
     "metadata": {},
     "output_type": "execute_result"
    }
   ],
   "source": [
    "# check NaN\n",
    "df.isnull().any()"
   ]
  },
  {
   "cell_type": "code",
   "execution_count": 4,
   "metadata": {},
   "outputs": [],
   "source": [
    "# B=>0 M=>1\n",
    "def transform(x):\n",
    "    for i in range(0,len(x)):\n",
    "        if(x[i]=='B'):\n",
    "            x[i]=0;\n",
    "        else:\n",
    "            x[i]=1;"
   ]
  },
  {
   "cell_type": "code",
   "execution_count": 8,
   "metadata": {
    "scrolled": true
   },
   "outputs": [
    {
     "name": "stdout",
     "output_type": "stream",
     "text": [
      "For DT1:\n",
      "Train accurancy=1.000000\n",
      "Test accurancy=0.929531\n",
      "Precision=0.965517\n",
      "Recall=0.888889\n"
     ]
    }
   ],
   "source": [
    "x = df.iloc[:,2:31].values\n",
    "y = df.iloc[:,1].values\n",
    "score_train=[]\n",
    "score_test=[]\n",
    "# Bagging\n",
    "for i in range(0,20):\n",
    "    (x_train,x_test,y_train,y_test)=train_test_split(x, y, test_size=0.3)\n",
    "    clf = DecisionTreeClassifier()\n",
    "    clf.fit(x_train, y_train)\n",
    "    clf.score(x_test, y_test)\n",
    "    y_pred_DT1=clf.predict(x_test)\n",
    "    score_test.append(round(clf.score(x_test, y_test),5))\n",
    "    score_train.append(round(clf.score(x_train, y_train),5))\n",
    "accurancy_test=np.average(score_test)\n",
    "accurancy_train=np.average(score_train)    \n",
    "print(\"For DT1:\\nTrain accurancy=%f\\nTest accurancy=%f\"%(accurancy_train,accurancy_test))\n",
    "transform(y_test)\n",
    "transform(y_pred_DT1)\n",
    "precision_DT1=sm.precision_score(y_test.astype(int),y_pred_DT1.astype(int))\n",
    "recall_DT1=sm.recall_score(y_test.astype(int),y_pred_DT1.astype(int))\n",
    "print(\"Precision=%f\"%precision_DT1)\n",
    "print(\"Recall=%f\"%recall_DT1)"
   ]
  },
  {
   "cell_type": "code",
   "execution_count": 14,
   "metadata": {},
   "outputs": [
    {
     "name": "stdout",
     "output_type": "stream",
     "text": [
      "For DT2:\n",
      "Train accurancy=0.983882\n",
      "Test accurancy=0.984796\n",
      "Precision=0.984848\n",
      "Recall=0.970149\n"
     ]
    }
   ],
   "source": [
    "# Bagging\n",
    "score_train=[]\n",
    "score_test=[]\n",
    "for turns in range(0,20):\n",
    "    (x_train,x_test,y_train,y_test)=train_test_split(x, y, test_size=0.3)\n",
    "    clf_with_limit = DecisionTreeClassifier(max_depth=8)\n",
    "    clf_with_limit.fit(x_train, y_train)\n",
    "    y_pred_DT2=clf.predict(x_test)\n",
    "    score_test.append(round(clf.score(x_test, y_test),5))\n",
    "    score_train.append(round(clf.score(x_train, y_train),5))\n",
    "accurancy_test=np.average(score_test)\n",
    "accurancy_train=np.average(score_train)\n",
    "print(\"For DT2:\\nTrain accurancy=%f\\nTest accurancy=%f\"%(accurancy_train,accurancy_test))\n",
    "transform(y_test)\n",
    "transform(y_pred_DT2)\n",
    "precision_DT2=sm.precision_score(y_test.astype(int),y_pred_DT2.astype(int))\n",
    "recall_DT2=sm.recall_score(y_test.astype(int),y_pred_DT2.astype(int))\n",
    "print(\"Precision=%f\"%precision_DT2)\n",
    "print(\"Recall=%f\"%recall_DT2)"
   ]
  },
  {
   "cell_type": "markdown",
   "metadata": {},
   "source": [
    "__DT1 Train Accurancy > DT2 Train Accurancy__ <br>\n",
    "__DT1 Test Accurancy < DT2 Test Accurancy__ <br>\n",
    "__So in DT1 decision tree is over-fitting which is fit to noise. After limitting the maximum depth, the DT2 decision tree is more great.__"
   ]
  },
  {
   "cell_type": "markdown",
   "metadata": {},
   "source": [
    "\n",
    "||Accuracy|Accuracy|Precision|Recall|\n",
    "|---|---|---|---|---|\n",
    "||Train|Test|||\n",
    "|DT1|1.000|0.929|0.966|0.900|\n",
    "|DT2|0.984|0.985|0.985|0.970|"
   ]
  }
 ],
 "metadata": {
  "kernelspec": {
   "display_name": "Python 3",
   "language": "python",
   "name": "python3"
  },
  "language_info": {
   "codemirror_mode": {
    "name": "ipython",
    "version": 3
   },
   "file_extension": ".py",
   "mimetype": "text/x-python",
   "name": "python",
   "nbconvert_exporter": "python",
   "pygments_lexer": "ipython3",
   "version": "3.7.6"
  }
 },
 "nbformat": 4,
 "nbformat_minor": 4
}
